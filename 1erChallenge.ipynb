{
  "nbformat": 4,
  "nbformat_minor": 0,
  "metadata": {
    "colab": {
      "provenance": [],
      "toc_visible": true,
      "include_colab_link": true
    },
    "kernelspec": {
      "name": "python3",
      "display_name": "Python 3"
    },
    "language_info": {
      "name": "python"
    }
  },
  "cells": [
    {
      "cell_type": "markdown",
      "metadata": {
        "id": "view-in-github",
        "colab_type": "text"
      },
      "source": [
        "<a href=\"https://colab.research.google.com/github/FelipeOctavio87/1erChallengeAlura/blob/main/1erChallenge.ipynb\" target=\"_parent\"><img src=\"https://colab.research.google.com/assets/colab-badge.svg\" alt=\"Open In Colab\"/></a>"
      ]
    },
    {
      "cell_type": "code",
      "source": [
        "\n",
        "import pandas as pd\n",
        "import matplotlib.pyplot as plt\n",
        "import seaborn as sns\n",
        "import plotly.graph_objects as go\n",
        "import plotly.express as px\n",
        "import matplotlib.ticker as mtick\n",
        "\n",
        "df_tienda_total = pd.concat([tienda, tienda2, tienda3, tienda4])\n",
        "\n",
        "\n",
        "# Calculando el total para cada tienda\n",
        "total_tienda1 = tienda['Precio'].sum()\n",
        "total_tienda2 = tienda2['Precio'].sum()\n",
        "total_tienda3 = tienda3['Precio'].sum()\n",
        "total_tienda4 = tienda4['Precio'].sum()\n",
        "\n",
        "\n",
        "# Calculando el total de las tiendas\n",
        "total_sum = total_tienda1 + total_tienda2 + total_tienda3 + total_tienda4 #1er Forma\n",
        "total_tienda_completa= tienda_completa['Precio'].sum() # 2da Forma\n",
        "\n",
        "# Imrpimiendo el total de facturación de cada tienda\n",
        "print(\"Facturación Total Tienda 1:\", total_tienda1)\n",
        "print(\"Facturación Total Tienda 2:\", total_tienda2)\n",
        "print(\"Facturación Total Tienda 3:\", total_tienda3)\n",
        "print(\"Facturación Total Tienda 4:\", total_tienda4)\n",
        "\n",
        "# Imprimiendo la suma de la facturación total de todas las tiendas\n",
        "print(\"Facturación Total de Todas las tiendas:\", total_sum)\n",
        "print(\"----------------Otra forma------------------------------------\")\n",
        "print(\"Facturación Total de Todas las tiendas:\", total_tienda_completa)\n",
        "\n",
        "tiendas = ['Tienda 1', 'Tienda 2', 'Tienda 3', 'Tienda 4']\n",
        "total_facturacion = [total_tienda1, total_tienda2, total_tienda3, total_tienda4]\n",
        "colores = ['#1f77b4', '#ff7f0e', '#2ca02c', '#d62728']\n",
        "plt.plot(tiendas, total_facturacion, marker='o', linestyle='-', color='blue')\n",
        "plt.xlabel('Tiendas')\n",
        "plt.ylabel('Total de Facturación')\n",
        "plt.title('Total de Facturación de Cada Tienda')\n",
        "\n",
        "# Aplicar formato de dinero con signo $\n",
        "formatter = mtick.StrMethodFormatter('${x:,.0f}')\n",
        "plt.gca().yaxis.set_major_formatter(formatter)\n",
        "\n",
        "plt.grid(True)\n",
        "plt.show()\n",
        "\n",
        "print('---------------Creando DataFrame para los gráficos----------------------------------')\n",
        "\n",
        "df_facturacion = pd.DataFrame({'Tienda': tiendas, 'Total de Facturación': total_facturacion})\n",
        "\n",
        "\n",
        "plt.figure(figsize=(8, 5))\n",
        "sns.lineplot(x='Tienda', y='Total de Facturación', marker='o', data=df_facturacion)\n",
        "plt.xlabel('Tiendas')\n",
        "plt.ylabel('Total de Facturación')\n",
        "plt.title('Total de Facturación de Cada Tienda (Seaborn)')\n",
        "plt.grid(True)\n",
        "plt.show()\n",
        "\n",
        "\n",
        "print('----------------------Más Gráficos--------------------------------------------------')\n",
        "\n",
        "fig = px.bar(\n",
        "    df_facturacion,\n",
        "    x='Tienda',\n",
        "    y='Total de Facturación',\n",
        "    labels={'Tienda': 'Tiendas', 'Total de Facturación': 'Total de Facturación'},\n",
        "    title='Total de Facturación de Cada Tienda'\n",
        ")\n",
        "fig.show()\n",
        "\n",
        "\n",
        "\n",
        "\n",
        "\n",
        "\n",
        "\n",
        "\n",
        "\n"
      ],
      "metadata": {
        "colab": {
          "base_uri": "https://localhost:8080/",
          "height": 211
        },
        "collapsed": true,
        "outputId": "2eff4b60-2883-40f0-eb58-dc86d826e620",
        "id": "YIvUJzqmBf78"
      },
      "execution_count": 7,
      "outputs": [
        {
          "output_type": "error",
          "ename": "NameError",
          "evalue": "name 'tienda_completa' is not defined",
          "traceback": [
            "\u001b[0;31m---------------------------------------------------------------------------\u001b[0m",
            "\u001b[0;31mNameError\u001b[0m                                 Traceback (most recent call last)",
            "\u001b[0;32m/tmp/ipython-input-7-3852122258.py\u001b[0m in \u001b[0;36m<cell line: 0>\u001b[0;34m()\u001b[0m\n\u001b[1;32m     18\u001b[0m \u001b[0;31m# Calculando el total de las tiendas\u001b[0m\u001b[0;34m\u001b[0m\u001b[0;34m\u001b[0m\u001b[0m\n\u001b[1;32m     19\u001b[0m \u001b[0mtotal_sum\u001b[0m \u001b[0;34m=\u001b[0m \u001b[0mtotal_tienda1\u001b[0m \u001b[0;34m+\u001b[0m \u001b[0mtotal_tienda2\u001b[0m \u001b[0;34m+\u001b[0m \u001b[0mtotal_tienda3\u001b[0m \u001b[0;34m+\u001b[0m \u001b[0mtotal_tienda4\u001b[0m \u001b[0;31m#1er Forma\u001b[0m\u001b[0;34m\u001b[0m\u001b[0;34m\u001b[0m\u001b[0m\n\u001b[0;32m---> 20\u001b[0;31m \u001b[0mtotal_tienda_completa\u001b[0m\u001b[0;34m=\u001b[0m \u001b[0mtienda_completa\u001b[0m\u001b[0;34m[\u001b[0m\u001b[0;34m'Precio'\u001b[0m\u001b[0;34m]\u001b[0m\u001b[0;34m.\u001b[0m\u001b[0msum\u001b[0m\u001b[0;34m(\u001b[0m\u001b[0;34m)\u001b[0m \u001b[0;31m# 2da Forma\u001b[0m\u001b[0;34m\u001b[0m\u001b[0;34m\u001b[0m\u001b[0m\n\u001b[0m\u001b[1;32m     21\u001b[0m \u001b[0;34m\u001b[0m\u001b[0m\n\u001b[1;32m     22\u001b[0m \u001b[0;31m# Imrpimiendo el total de facturación de cada tienda\u001b[0m\u001b[0;34m\u001b[0m\u001b[0;34m\u001b[0m\u001b[0m\n",
            "\u001b[0;31mNameError\u001b[0m: name 'tienda_completa' is not defined"
          ]
        }
      ]
    },
    {
      "cell_type": "markdown",
      "source": [
        "### Importación de datos\n",
        "\n"
      ],
      "metadata": {
        "id": "RhEdWd9YUR6H"
      }
    },
    {
      "cell_type": "code",
      "execution_count": null,
      "metadata": {
        "id": "T3EvaeQ_INIL"
      },
      "outputs": [],
      "source": [
        "import pandas as pd\n",
        "import matplotlib.pyplot as plt\n",
        "import seaborn as sns\n",
        "import plotly.graph_objects as go\n",
        "import plotly.express as px\n",
        "\n",
        "\n",
        "url = \"https://raw.githubusercontent.com/alura-es-cursos/challenge1-data-science-latam/refs/heads/main/base-de-datos-challenge1-latam/tienda_1%20.csv\"\n",
        "url2 = \"https://raw.githubusercontent.com/alura-es-cursos/challenge1-data-science-latam/refs/heads/main/base-de-datos-challenge1-latam/tienda_2.csv\"\n",
        "url3 = \"https://raw.githubusercontent.com/alura-es-cursos/challenge1-data-science-latam/refs/heads/main/base-de-datos-challenge1-latam/tienda_3.csv\"\n",
        "url4 = \"https://raw.githubusercontent.com/alura-es-cursos/challenge1-data-science-latam/refs/heads/main/base-de-datos-challenge1-latam/tienda_4.csv\"\n",
        "\n",
        "tienda = pd.read_csv(url)\n",
        "tienda2 = pd.read_csv(url2)\n",
        "tienda3 = pd.read_csv(url3)\n",
        "tienda4 = pd.read_csv(url4)\n",
        "\n",
        "display(tienda.head())\n",
        "\n",
        "df_tienda_total = pd.concat([tienda, tienda2, tienda3, tienda4])\n",
        "#tienda_completa = pd.concat([tienda, tienda2, tienda3, tienda4])\n",
        "print(\"-----------------------------Head Tienda Completa------------------------------------\")\n",
        "\n",
        "df_tienda_total.head()"
      ]
    },
    {
      "cell_type": "markdown",
      "source": [
        "#1. Análisis de facturación\n",
        "\n"
      ],
      "metadata": {
        "id": "X62IW3KFUIYm"
      }
    },
    {
      "cell_type": "code",
      "source": [
        "\n",
        "import pandas as pd\n",
        "import matplotlib.pyplot as plt\n",
        "import seaborn as sns\n",
        "import plotly.graph_objects as go\n",
        "import plotly.express as px\n",
        "import matplotlib.ticker as mtick\n",
        "\n",
        "df_tienda_total = pd.concat([tienda, tienda2, tienda3, tienda4])\n",
        "\n",
        "# Calculando el total para cada tienda\n",
        "total_tienda1 = tienda['Precio'].sum()\n",
        "total_tienda2 = tienda2['Precio'].sum()\n",
        "total_tienda3 = tienda3['Precio'].sum()\n",
        "total_tienda4 = tienda4['Precio'].sum()\n",
        "\n",
        "\n",
        "# Calculando el total de las tiendas\n",
        "total_sum = total_tienda1 + total_tienda2 + total_tienda3 + total_tienda4 #1era Forma\n",
        "total_tienda_completa= df_tienda_total['Precio'].sum() # 2da Forma\n",
        "\n",
        "# Imrpimiendo el total de facturación de cada tienda\n",
        "print(\"Facturación Total Tienda 1:\", total_tienda1)\n",
        "print(\"Facturación Total Tienda 2:\", total_tienda2)\n",
        "print(\"Facturación Total Tienda 3:\", total_tienda3)\n",
        "print(\"Facturación Total Tienda 4:\", total_tienda4)\n",
        "\n",
        "# Imrpimiendo la suma de la facturación total de todas las tiendas\n",
        "print(\"Facturación Total de Todas las tiendas:\", total_sum)\n",
        "print(\"----------------Otra forma------------------------------------\")\n",
        "print(\"Facturación Total de Todas las tiendas:\", total_tienda_completa)\n",
        "\n",
        "tiendas = ['Tienda 1', 'Tienda 2', 'Tienda 3', 'Tienda 4']\n",
        "total_facturacion = [total_tienda1, total_tienda2, total_tienda3, total_tienda4]\n",
        "colores = ['#1f77b4', '#ff7f0e', '#2ca02c', '#d62728']\n",
        "plt.plot(tiendas, total_facturacion, marker='o', linestyle='-', color='blue')\n",
        "plt.xlabel('Tiendas')\n",
        "plt.ylabel('Total de Facturación')\n",
        "plt.title('Total de Facturación de Cada Tienda')\n",
        "\n",
        "# Aplicar formato de dinero con signo $\n",
        "formatter = mtick.StrMethodFormatter('${x:,.0f}')\n",
        "plt.gca().yaxis.set_major_formatter(formatter)\n",
        "\n",
        "plt.grid(True)\n",
        "plt.show()\n",
        "\n",
        "\n",
        "\n",
        "\n",
        "\n",
        "\n",
        "\n"
      ],
      "metadata": {
        "id": "xykobSftV64I",
        "collapsed": true
      },
      "execution_count": null,
      "outputs": []
    },
    {
      "cell_type": "code",
      "source": [
        "# Creando DataFrame para los gráficos\n",
        "\n",
        "df_facturacion = pd.DataFrame({'Tienda': tiendas, 'Total de Facturación': total_facturacion})\n",
        "\n",
        "\n",
        "plt.figure(figsize=(8, 5))\n",
        "sns.lineplot(x='Tienda', y='Total de Facturación', marker='o', data=df_facturacion)\n",
        "plt.xlabel('Tiendas')\n",
        "plt.ylabel('Total de Facturación')\n",
        "plt.title('Total de Facturación de Cada Tienda')\n",
        "\n",
        "# Aplicar formato de dinero con signo $\n",
        "formatter = mtick.StrMethodFormatter('${x:,.0f}')\n",
        "plt.gca().yaxis.set_major_formatter(formatter)\n",
        "\n",
        "plt.grid(True)\n",
        "plt.show()\n",
        "\n",
        "\n"
      ],
      "metadata": {
        "id": "uQNMiuZeCDQ2"
      },
      "execution_count": null,
      "outputs": []
    },
    {
      "cell_type": "code",
      "metadata": {
        "id": "873aee05"
      },
      "source": [
        "# Gráficos con plotly\n",
        "\n",
        "fig = px.bar(\n",
        "    df_facturacion,\n",
        "    x='Tienda',\n",
        "    y='Total de Facturación',\n",
        "    labels={'Tienda': 'Tiendas', 'Total de Facturación': 'Total de Facturación'},\n",
        "    title='Total de Facturación de Cada Tienda ',\n",
        ")\n",
        "\n",
        "fig.update_layout(yaxis_tickprefix='$', yaxis_tickformat=',')\n",
        "\n",
        "fig.show()"
      ],
      "execution_count": null,
      "outputs": []
    },
    {
      "cell_type": "markdown",
      "source": [
        "# 2. Ventas por categoría"
      ],
      "metadata": {
        "id": "2V_vcAPzWZmR"
      }
    },
    {
      "cell_type": "code",
      "source": [
        "#Utilizando Dataframe de Librería Pandas\n",
        "\n",
        "#Ventas Por Categoría\n",
        "\n",
        "import matplotlib.pyplot as plt\n",
        "import seaborn as sns\n",
        "import plotly.graph_objects as go\n",
        "import plotly.express as px\n",
        "import numpy as np\n",
        "\n",
        "\n",
        "ventas_por_producto = df_tienda_total['Categoría del Producto'].value_counts()\n",
        "venta_por_producto_reseteada = ventas_por_producto.reset_index()\n",
        "ventas_productos_final = venta_por_producto_reseteada.rename(columns={'count': 'Ventas'})\n",
        "print(\"-----------------TIENDA TOTAL---------------------------------------\")\n",
        "print(ventas_productos_final)\n",
        "\n",
        "print(\"-----------------TIENDA 1---------------------------------------\")\n",
        "ventas_por_producto1 = tienda['Categoría del Producto'].value_counts()\n",
        "venta_por_producto_reseteada1 = ventas_por_producto1.reset_index()\n",
        "\n",
        "ventas_productos_final1 = venta_por_producto_reseteada1.rename(columns={'count': 'Ventas'})\n",
        "print(ventas_productos_final1)\n",
        "\n",
        "print(\"-----------------TIENDA 2---------------------------------------\")\n",
        "ventas_por_producto2 = tienda2['Categoría del Producto'].value_counts()\n",
        "venta_por_producto_reseteada2 = ventas_por_producto2.reset_index()\n",
        "\n",
        "ventas_productos_final2 = venta_por_producto_reseteada2.rename(columns={'count': 'Ventas'})\n",
        "print(ventas_productos_final2)\n",
        "\n",
        "print(\"-----------------TIENDA 3---------------------------------------\")\n",
        "ventas_por_producto3 = tienda3['Categoría del Producto'].value_counts()\n",
        "venta_por_producto_reseteada3 = ventas_por_producto3.reset_index()\n",
        "\n",
        "ventas_productos_final3 = venta_por_producto_reseteada3.rename(columns={'count': 'Ventas'})\n",
        "print(ventas_productos_final3)\n",
        "\n",
        "print(\"-----------------TIENDA 4---------------------------------------\")\n",
        "ventas_por_producto4 = tienda4['Categoría del Producto'].value_counts()\n",
        "venta_por_producto_reseteada4 = ventas_por_producto4.reset_index()\n",
        "\n",
        "ventas_productos_final4 = venta_por_producto_reseteada4.rename(columns={'count': 'Ventas'})\n",
        "print(ventas_productos_final4)\n",
        "\n",
        "\n",
        "# Asegurarse de que todos los DataFrames tengan nombres consistentes\n",
        "ventas_productos_final = ventas_productos_final.rename(columns={'index': 'Categoría del Producto'})\n",
        "ventas_productos_final1 = ventas_productos_final1.rename(columns={'index': 'Categoría del Producto'})\n",
        "ventas_productos_final2 = ventas_productos_final2.rename(columns={'index': 'Categoría del Producto'})\n",
        "ventas_productos_final3 = ventas_productos_final3.rename(columns={'index': 'Categoría del Producto'})\n",
        "ventas_productos_final4 = ventas_productos_final4.rename(columns={'index': 'Categoría del Producto'})\n",
        "\n",
        "# Unir los datos por categoría\n",
        "df_unificado = ventas_productos_final[['Categoría del Producto', 'Ventas']].rename(columns={'Ventas': 'Tienda Total'})\n",
        "df_unificado = df_unificado.merge(ventas_productos_final1, on='Categoría del Producto', how='left').rename(columns={'Ventas': 'Tienda 1'})\n",
        "df_unificado = df_unificado.merge(ventas_productos_final2, on='Categoría del Producto', how='left').rename(columns={'Ventas': 'Tienda 2'})\n",
        "df_unificado = df_unificado.merge(ventas_productos_final3, on='Categoría del Producto', how='left').rename(columns={'Ventas': 'Tienda 3'})\n",
        "df_unificado = df_unificado.merge(ventas_productos_final4, on='Categoría del Producto', how='left').rename(columns={'Ventas': 'Tienda 4'})\n",
        "\n",
        "print(\"------ DataFrame Unificado ------\")\n",
        "print(df_unificado)\n",
        "\n",
        "import matplotlib.pyplot as plt\n",
        "import numpy as np\n",
        "\n",
        "# Datos para graficar\n",
        "categorias = df_unificado['Categoría del Producto']\n",
        "ancho_barra = 0.15\n",
        "x = np.arange(len(categorias))\n",
        "\n",
        "plt.figure(figsize=(12,6))\n",
        "\n",
        "plt.bar(x - 2*ancho_barra, df_unificado['Tienda 1'], width=ancho_barra, label='Tienda 1')\n",
        "plt.bar(x - ancho_barra, df_unificado['Tienda 2'], width=ancho_barra, label='Tienda 2')\n",
        "plt.bar(x, df_unificado['Tienda 3'], width=ancho_barra, label='Tienda 3')\n",
        "plt.bar(x + ancho_barra, df_unificado['Tienda 4'], width=ancho_barra, label='Tienda 4')\n",
        "plt.bar(x + 2*ancho_barra, df_unificado['Tienda Total'], width=ancho_barra, color='black', label='Tienda Total', alpha=0.7)\n",
        "\n",
        "# Personalización\n",
        "plt.xticks(x, categorias, rotation=45)\n",
        "plt.ylabel('Ventas')\n",
        "plt.title('Ventas por Categoría de Producto - Comparación entre Tiendas')\n",
        "plt.legend()\n",
        "plt.tight_layout()\n",
        "plt.grid(axis='y', linestyle='--', alpha=0.5)\n",
        "plt.show()\n",
        "\n",
        "\n",
        "#Grafícos\n",
        "\n",
        "import matplotlib.pyplot as plt\n",
        "import numpy as np\n",
        "\n",
        "# Datos para gráfico\n",
        "categorias = df_unificado['Categoría del Producto']\n",
        "ancho_barra = 0.2\n",
        "x = np.arange(len(categorias))\n",
        "\n",
        "# Crear figura\n",
        "plt.figure(figsize=(12,6))\n",
        "\n",
        "# Barras para cada tienda (sin incluir la tienda total)\n",
        "plt.bar(x - 1.5*ancho_barra, df_unificado['Tienda 1'], width=ancho_barra, label='Tienda 1')\n",
        "plt.bar(x - 0.5*ancho_barra, df_unificado['Tienda 2'], width=ancho_barra, label='Tienda 2')\n",
        "plt.bar(x + 0.5*ancho_barra, df_unificado['Tienda 3'], width=ancho_barra, label='Tienda 3')\n",
        "plt.bar(x + 1.5*ancho_barra, df_unificado['Tienda 4'], width=ancho_barra, label='Tienda 4')\n",
        "\n",
        "# Personalización\n",
        "plt.xticks(x, categorias, rotation=45)\n",
        "plt.ylabel('Ventas')\n",
        "plt.title('Ventas por Categoría - Tiendas 1 a 4')\n",
        "plt.legend()\n",
        "plt.grid(axis='y', linestyle='--', alpha=0.3)\n",
        "plt.tight_layout()\n",
        "plt.show()\n",
        "\n",
        "\n",
        "\n",
        "\n",
        "\n",
        "\n",
        "\n",
        "\n",
        "\n"
      ],
      "metadata": {
        "id": "A34YupIuYhfF"
      },
      "execution_count": null,
      "outputs": []
    },
    {
      "cell_type": "code",
      "source": [
        "\n",
        "# Diccionario de tiendas y sus datos\n",
        "tiendas = {\n",
        "    'Tienda 1': df_unificado[['Categoría del Producto', 'Tienda 1']],\n",
        "    'Tienda 2': df_unificado[['Categoría del Producto', 'Tienda 2']],\n",
        "    'Tienda 3': df_unificado[['Categoría del Producto', 'Tienda 3']],\n",
        "    'Tienda 4': df_unificado[['Categoría del Producto', 'Tienda 4']],\n",
        "}\n",
        "\n",
        "# Generar un gráfico por tienda con etiquetas en las barras\n",
        "for nombre_tienda, datos in tiendas.items():\n",
        "    plt.figure(figsize=(10,5))\n",
        "    barras = plt.bar(datos['Categoría del Producto'], datos[nombre_tienda], color='skyblue')\n",
        "    plt.xticks(rotation=45)\n",
        "    plt.ylabel('Ventas')\n",
        "    plt.title(f'Ventas por Categoría - {nombre_tienda}')\n",
        "    plt.grid(axis='y', linestyle='--', alpha=0.3)\n",
        "\n",
        "    # Agregar etiquetas a cada barra\n",
        "    for barra in barras:\n",
        "        altura = barra.get_height()\n",
        "        plt.text(\n",
        "            barra.get_x() + barra.get_width()/2,\n",
        "            altura + 1,\n",
        "            f'{int(altura)}',\n",
        "            ha='center',\n",
        "            va='bottom',\n",
        "            fontsize=9,\n",
        "            fontweight='bold'\n",
        "        )\n",
        "\n",
        "    plt.tight_layout()\n",
        "    plt.show()"
      ],
      "metadata": {
        "id": "b1D9AMHvI-1o"
      },
      "execution_count": null,
      "outputs": []
    },
    {
      "cell_type": "markdown",
      "source": [
        "# 3. Calificación promedio de la tienda\n"
      ],
      "metadata": {
        "id": "Rq6tU_xSY3jk"
      }
    },
    {
      "cell_type": "code",
      "source": [
        "\n",
        "calificaciones_promedio = []\n",
        "\n",
        "for tienda, nombre in zip([tienda, tienda2, tienda3, tienda4], ['Tienda 1', 'Tienda 2', 'Tienda 3', 'Tienda 4']):\n",
        "    calificacion_promedio = tienda['Calificación'].mean()\n",
        "    calificaciones_promedio.append({'Tienda': nombre, 'Calificacion Promedio': calificacion_promedio})\n",
        "\n",
        "#Crear Dataframe con Resultados\n",
        "df_calificaciones_promedio = pd.DataFrame(calificaciones_promedio).sort_values(by='Tienda')\n",
        "print(df_calificaciones_promedio)\n",
        "\n",
        "\n",
        "\n"
      ],
      "metadata": {
        "id": "bh3jjjJwY5MU"
      },
      "execution_count": null,
      "outputs": []
    },
    {
      "cell_type": "code",
      "source": [
        "# Graficando Calificación Promedio de la tienda\n",
        "\n",
        "fig = px.line(\n",
        "    df_calificaciones_promedio,\n",
        "    x='Tienda',\n",
        "    y='Calificacion Promedio',\n",
        "    labels={'Tienda': 'Store', 'Calificacion Promedio': 'Calificacion Promedio'},\n",
        "    title='Las Tiendas y su Calificación Promedio',\n",
        "    markers=True\n",
        ")\n",
        "\n",
        "fig.update_layout(\n",
        "    yaxis=dict(\n",
        "        range=[3.97, 4.05],\n",
        "        tickformat=\".3f\"\n",
        "    ),\n",
        "    title_x=0.5\n",
        ")\n",
        "\n",
        "fig.update_traces(text=df_calificaciones_promedio['Calificacion Promedio'].round(3), textposition=\"top center\")\n",
        "\n",
        "fig.show()"
      ],
      "metadata": {
        "id": "N1uuOcwfdRgq"
      },
      "execution_count": null,
      "outputs": []
    },
    {
      "cell_type": "code",
      "source": [
        "#Calificación por Categoría\n",
        "\n",
        "#Tienda total\n",
        "\n",
        "df = pd.DataFrame(df_tienda_total, columns = ['Categoría del Producto', 'Calificación'])\n",
        "print(\"--------------Se Crea DataFrame de la Tienda Total------------------------------------------\")\n",
        "print(df)\n",
        "\n",
        "Categoría_promedio = df.groupby('Categoría del Producto')['Calificación'].mean()\n",
        "print(\"------------Calificación Promedio de todos los productos de la Tienda por Categoría--------------------------------------------\")\n",
        "print(Categoría_promedio)\n",
        "Categoría_Reseteada_df = Categoría_promedio.reset_index()\n",
        "Categoría_Promedio_Tiendas = Categoría_Reseteada_df.rename(columns={'Calificación': 'Calificación Promedio'})\n",
        "print(\"------------Calificación Promedio de toda la Tienda por Categoría RESETEADA--------------------------------------------\")\n",
        "print(Categoría_Reseteada_df)\n",
        "print(\"------------Calificación Promedio de toda la Tienda por Categoría COLUMNA RENOMBRADA--------------------------------------------\")\n",
        "print(Categoría_Promedio_Tiendas)\n",
        "print(\"----------------Categorías Populares de toda la Tienda------------------\")\n",
        "Categorías_Populares_Tiendas = Categoría_Promedio_Tiendas[Categoría_Promedio_Tiendas['Calificación Promedio'] > 4.03]\n",
        "print(Categorías_Populares_Tiendas)\n",
        "print(\"---------------Promedio de Calificación de los Clientes en toda la Tienda-----------------------------------------\")\n",
        "Promedio_general = Categoría_Promedio_Tiendas['Calificación Promedio'].mean()\n",
        "print(f'El promedio de calificación de los clientes de toda la Tienda considerando todas las categorías es: {Promedio_general:.2f}')\n",
        "\n",
        "\n",
        "fig = px.pie(\n",
        "    Categorías_Populares_Tiendas,\n",
        "    values='Calificación Promedio',\n",
        "    names='Categoría del Producto',\n",
        "    title='Categorias Populares de la Tienda Total',\n",
        ")\n",
        "\n",
        "fig.update_traces(textposition='inside', textinfo='value')\n",
        "fig.show()\n",
        "\n",
        "\n",
        "\n",
        "\n",
        "\n",
        "\n"
      ],
      "metadata": {
        "id": "6HzY7m0hY3yz"
      },
      "execution_count": null,
      "outputs": []
    },
    {
      "cell_type": "code",
      "source": [
        "#Tienda1\n",
        "df1 = pd.DataFrame(tienda, columns = ['Categoría del Producto', 'Calificación'])\n",
        "print(\"--------------Se Crea DataFrame de la Tienda 1------------------------------------------\")\n",
        "print(df1)\n",
        "\n",
        "\n",
        "Categoría_promedio1 = df1.groupby('Categoría del Producto')['Calificación'].mean()\n",
        "print(\"------------Calificación Promedio Tienda 1--------------------------------------------\")\n",
        "print(Categoría_promedio1)\n",
        "Categoría_Reseteada_df1 = Categoría_promedio1.reset_index()\n",
        "Categoría_Promedio1 = Categoría_Reseteada_df1.rename(columns={'Calificación': 'Calificación Promedio'})\n",
        "print(\"------------Calificación Promedio Tienda 1 RESETEADA--------------------------------------------\")\n",
        "print(Categoría_Reseteada_df1)\n",
        "print(\"------------Calificación Promedio Tienda 1 COLUMNA RENOMBRADA--------------------------------------------\")\n",
        "print(Categoría_Promedio1)\n",
        "print(\"----------------Categorías Populares de la Tienda 1------------------\")\n",
        "Categorías_populares1 = Categoría_Promedio1[Categoría_Promedio1['Calificación Promedio'] > 4.03]\n",
        "print(Categorías_populares1)\n",
        "print(\"---------------Promedio de Calificación de los Clientes de la Tienda 1-----------------------------------------\")\n",
        "Promedio_general1 = Categoría_Promedio1['Calificación Promedio'].mean()\n",
        "print(f'El promedio de calificación de los clientes de la Tienda 1 considerando todas las categorías es: {Promedio_general1:.2f}')\n",
        "\n",
        "fig = px.pie(\n",
        "    Categorías_populares1,\n",
        "    values='Calificación Promedio',\n",
        "    names='Categoría del Producto',\n",
        "    title='Categorias Populares de la Tienda 1',\n",
        ")\n",
        "\n",
        "fig.update_traces(textposition='inside', textinfo='value')\n",
        "fig.show()"
      ],
      "metadata": {
        "id": "I0KkjPoTY88F"
      },
      "execution_count": null,
      "outputs": []
    },
    {
      "cell_type": "code",
      "source": [
        "\n",
        "#Tienda2\n",
        "df2 = pd.DataFrame(tienda2, columns = ['Categoría del Producto', 'Calificación'])\n",
        "\n",
        "print(df2)\n",
        "\n",
        "\n",
        "Categoría_promedio2 = df2.groupby('Categoría del Producto')['Calificación'].mean()\n",
        "print(\"------------Calificación Promedio Tienda 2--------------------------------------------\")\n",
        "print(Categoría_promedio2)\n",
        "Categoría_Reseteada_df2 = Categoría_promedio2.reset_index()\n",
        "Categoría_Promedio2 = Categoría_Reseteada_df2.rename(columns={'Calificación': 'Calificación Promedio'})\n",
        "print(\"------------Calificación Promedio Tienda 2 RESETEADA--------------------------------------------\")\n",
        "print(Categoría_Reseteada_df2)\n",
        "print(\"------------Calificación Promedio Tienda 2 COLUMNA RENOMBRADA--------------------------------------------\")\n",
        "print(Categoría_Promedio2)\n",
        "print(\"----------------Categorías Populares de la Tienda 2------------------\")\n",
        "Categorías_populares2 = Categoría_Promedio2[Categoría_Promedio2['Calificación Promedio'] > 4.03]\n",
        "print(Categorías_populares2)\n",
        "print(\"---------------Promedio de Calificación de los Clientes de la Tienda 2-----------------------------------------\")\n",
        "promedio_general2 = Categoría_Promedio2['Calificación Promedio'].mean()\n",
        "print(f'El promedio de calificación de los clientes de la Tienda 2 considerando todas las categorías es: {promedio_general2:.2f}')\n",
        "\n",
        "fig = px.pie(\n",
        "    Categorías_populares2,\n",
        "    values='Calificación Promedio',\n",
        "    names='Categoría del Producto',\n",
        "    title='Categorias Populares de la Tienda 2',\n",
        ")\n",
        "\n",
        "fig.update_traces(textposition='inside', textinfo='value')\n",
        "fig.show()\n"
      ],
      "metadata": {
        "id": "A5V7pk8CqRCC"
      },
      "execution_count": null,
      "outputs": []
    },
    {
      "cell_type": "code",
      "source": [
        "print(\"-------------TIENDA 3-------------------------\")\n",
        "\n",
        "df3 = pd.DataFrame(tienda3, columns = ['Categoría del Producto', 'Calificación'])\n",
        "print(\"--------------Se Crea DataFrame de la Tienda 3------------------------------------------\")\n",
        "print(df3)\n",
        "\n",
        "Categoría_promedio3 = df3.groupby('Categoría del Producto')['Calificación'].mean()\n",
        "print(\"------------Calificación Promedio Tienda 3--------------------------------------------\")\n",
        "print(Categoría_promedio3)\n",
        "Categoría_Reseteada_df3 = Categoría_promedio3.reset_index()\n",
        "Categoría_Promedio3 = Categoría_Reseteada_df3.rename(columns={'Calificación': 'Calificación Promedio'})\n",
        "print(\"------------Calificación Promedio Tienda 3 RESETEADA--------------------------------------------\")\n",
        "print(Categoría_Reseteada_df3)\n",
        "print(\"------------Calificación Promedio Tienda 3 COLUMNA RENOMBRADA--------------------------------------------\")\n",
        "print(Categoría_Promedio3)\n",
        "print(\"----------------Categorías Populares de la Tienda 3------------------\")\n",
        "Categorías_populares3 = Categoría_Promedio3[Categoría_Promedio3['Calificación Promedio'] > 4.03]\n",
        "print(Categorías_populares3)\n",
        "print(\"---------------Promedio de Calificación de los Clientes de la Tienda 3-----------------------------------------\")\n",
        "promedio_general3 = Categoría_Promedio3['Calificación Promedio'].mean()\n",
        "print(f'El promedio de calificación de los clientes de la Tienda 3 considerando todas las categorías es: {promedio_general3:.2f}')\n",
        "\n",
        "fig = px.pie(\n",
        "    Categorías_populares3,\n",
        "    values='Calificación Promedio',\n",
        "    names='Categoría del Producto',\n",
        "    title='Categorias Populares de la Tienda 3',\n",
        ")\n",
        "\n",
        "fig.update_traces(textposition='inside', textinfo='value')\n",
        "fig.show()"
      ],
      "metadata": {
        "id": "N1Twwi1HqMTH"
      },
      "execution_count": null,
      "outputs": []
    },
    {
      "cell_type": "code",
      "source": [
        "print(\"-------------TIENDA 4-------------------------\")\n",
        "\n",
        "df4 = pd.DataFrame(tienda4, columns = ['Categoría del Producto', 'Calificación'])\n",
        "print(\"--------------Se Crea DataFrame de la Tienda 4------------------------------------------\")\n",
        "print(df4)\n",
        "\n",
        "Categoría_promedio4 = df4.groupby('Categoría del Producto')['Calificación'].mean()\n",
        "print(\"------------Calificación Promedio Tienda 4--------------------------------------------\")\n",
        "print(Categoría_promedio4)\n",
        "Categoría_Reseteada_df4 = Categoría_promedio4.reset_index()\n",
        "Categoría_Promedio4 = Categoría_Reseteada_df4.rename(columns={'Calificación': 'Calificación Promedio'})\n",
        "print(\"------------Calificación Promedio Tienda 4 RESETEADA--------------------------------------------\")\n",
        "print(Categoría_Reseteada_df4)\n",
        "print(\"------------Calificación Promedio Tienda 4 COLUMNA RENOMBRADA--------------------------------------------\")\n",
        "print(Categoría_Promedio4)\n",
        "print(\"----------------Categorías Populares de la Tienda 4------------------\")\n",
        "Categorías_populares4 = Categoría_Promedio4[Categoría_Promedio4['Calificación Promedio'] > 4.03]\n",
        "print(Categorías_populares4)\n",
        "print(\"---------------Promedio de Calificación de los Clientes de la Tienda 4-----------------------------------------\")\n",
        "promedio_general4 = Categoría_Promedio4['Calificación Promedio'].mean()\n",
        "print(f'El promedio de calificación de los clientes de la Tienda 4 considerando todas las categorías es: {promedio_general4:.2f}')\n",
        "\n",
        "fig = px.pie(\n",
        "    Categorías_populares4,\n",
        "    values='Calificación Promedio',\n",
        "    names='Categoría del Producto',\n",
        "    title='Categorias Populares de la Tienda 4',\n",
        ")\n",
        "\n",
        "fig.update_traces(textposition='inside', textinfo='value')\n",
        "fig.show()"
      ],
      "metadata": {
        "id": "eNbBVXjLqXSY"
      },
      "execution_count": null,
      "outputs": []
    },
    {
      "cell_type": "markdown",
      "source": [
        "# 4. Productos más y menos vendidos"
      ],
      "metadata": {
        "id": "DmNp1KPBZCm-"
      }
    },
    {
      "cell_type": "code",
      "source": [
        "#Obteniendo la cantidad de Productos Vendidos totales de la Tienda\n",
        "import matplotlib.pyplot as plt\n",
        "\n",
        "print(\"-----------------TOTAL TIENDA-----------------\")\n",
        "\n",
        "ventas_por_producto = df_tienda_total['Producto'].value_counts()\n",
        "# Obtener el valor máximo y mínimo de ventas\n",
        "max_ventas = ventas_por_producto.max()\n",
        "min_ventas = ventas_por_producto.min()\n",
        "\n",
        "# Filtrar todos los productos con el máximo de ventas\n",
        "productos_mas_vendidos = ventas_por_producto[ventas_por_producto == max_ventas]\n",
        "print(f'Productos más vendidos ({max_ventas} unidades):')\n",
        "print(productos_mas_vendidos.to_string(index=True, header=False))\n",
        "\n",
        "# Filtrar todos los productos con el mínimo de ventas\n",
        "productos_menos_vendidos = ventas_por_producto[ventas_por_producto == min_ventas]\n",
        "print(f'\\nProductos menos vendidos ({min_ventas} unidades):')\n",
        "print(productos_menos_vendidos.to_string(index=True, header=False))\n",
        "\n",
        "# Calculate and show the top 3 best-selling products for each store\n",
        "for tienda_df, nombre in zip([tienda, tienda2, tienda3, tienda4],['Tienda 1', 'Tienda 2', 'Tienda 3', 'Tienda 4']):\n",
        "    top_3_productos = tienda_df.groupby('Producto')['Precio'].sum().nlargest(3).reset_index()\n",
        "    print(f\"\\nLos 3 productos más vendidos en {nombre}:\")\n",
        "    print(top_3_productos)\n",
        "\n",
        "\n",
        "#Visualizando 3 gráficos\n",
        "\n",
        "#1. Promedio de Ingreso por Venta\n",
        "\n",
        "plt.figure(figsize=(10, 6))\n",
        "productos_mas_vendidos.plot(kind='bar', color='skyblue')\n",
        "plt.title('Productos Más Vendidos')\n",
        "plt.xlabel('Producto')\n",
        "plt.ylabel('Tienda')\n",
        "plt.grid(axis='y')\n",
        "plt.xticks(rotation=45)\n",
        "plt.show()"
      ],
      "metadata": {
        "id": "qoyjqijQZHfF"
      },
      "execution_count": null,
      "outputs": []
    },
    {
      "cell_type": "code",
      "source": [
        "print(\"------------------TIENDA 1--------------------\")\n",
        "#Tienda 1\n",
        "\n",
        "ventas_por_producto1 = tienda['Producto'].value_counts()\n",
        "max_ventas1 = ventas_por_producto1.max()\n",
        "min_ventas1 = ventas_por_producto1.min()\n",
        "\n",
        "# Filtrar todos los productos con el máximo de ventas\n",
        "productos_mas_vendidos1 = ventas_por_producto1[ventas_por_producto1 == max_ventas1]\n",
        "print(f'Productos más vendidos ({max_ventas1} unidades):')\n",
        "print(productos_mas_vendidos1.to_string(index=True, header=False))\n",
        "\n",
        "# Filtrar todos los productos con el mínimo de ventas\n",
        "productos_menos_vendidos1 = ventas_por_producto1[ventas_por_producto1 == min_ventas1]\n",
        "print(f'\\nProductos menos vendidos ({min_ventas1} unidades):')\n",
        "print(productos_menos_vendidos1.to_string(index=True, header=False))\n"
      ],
      "metadata": {
        "id": "0Sw3sd4IZIGW"
      },
      "execution_count": null,
      "outputs": []
    },
    {
      "cell_type": "code",
      "source": [
        "print(\"------------------TIENDA 2--------------------\")\n",
        "#Tienda 2\n",
        "\n",
        "ventas_por_producto2 = tienda2['Producto'].value_counts()\n",
        "max_ventas2 = ventas_por_producto2.max()\n",
        "min_ventas2 = ventas_por_producto2.min()\n",
        "\n",
        "# Filtrar todos los productos con el máximo de ventas\n",
        "productos_mas_vendidos2 = ventas_por_producto2[ventas_por_producto2 == max_ventas2]\n",
        "print(f'Productos más vendidos ({max_ventas2} unidades):')\n",
        "print(productos_mas_vendidos2.to_string(index=True, header=False))\n",
        "\n",
        "# Filtrar todos los productos con el mínimo de ventas\n",
        "productos_menos_vendidos2 = ventas_por_producto2[ventas_por_producto2 == min_ventas2]\n",
        "print(f'\\nProductos menos vendidos ({min_ventas2} unidades):')\n",
        "print(productos_menos_vendidos2.to_string(index=True, header=False))\n"
      ],
      "metadata": {
        "id": "3yBajWTo1RvL"
      },
      "execution_count": null,
      "outputs": []
    },
    {
      "cell_type": "code",
      "source": [
        "print(\"------------------TIENDA 3--------------------\")\n",
        "#Tienda 3\n",
        "\n",
        "ventas_por_producto3 = tienda3['Producto'].value_counts()\n",
        "max_ventas3 = ventas_por_producto3.max()\n",
        "min_ventas3 = ventas_por_producto3.min()\n",
        "\n",
        "# Filtrar todos los productos con el máximo de ventas\n",
        "productos_mas_vendidos3 = ventas_por_producto3[ventas_por_producto3 == max_ventas3]\n",
        "print(f'Productos más vendidos ({max_ventas3} unidades):')\n",
        "print(productos_mas_vendidos3.to_string(index=True, header=False))\n",
        "\n",
        "# Filtrar todos los productos con el mínimo de ventas\n",
        "productos_menos_vendidos3 = ventas_por_producto3[ventas_por_producto3 == min_ventas3]\n",
        "print(f'\\nProductos menos vendidos ({min_ventas3} unidades):')\n",
        "print(productos_menos_vendidos3.to_string(index=True, header=False))"
      ],
      "metadata": {
        "id": "WLnWsHd21WLt"
      },
      "execution_count": null,
      "outputs": []
    },
    {
      "cell_type": "code",
      "source": [
        "print(\"------------------TIENDA 4--------------------\")\n",
        "#Tienda 4\n",
        "\n",
        "ventas_por_producto4 = tienda4['Producto'].value_counts()\n",
        "max_ventas4 = ventas_por_producto4.max()\n",
        "min_ventas4 = ventas_por_producto4.min()\n",
        "\n",
        "# Filtrar todos los productos con el máximo de ventas\n",
        "productos_mas_vendidos4 = ventas_por_producto4[ventas_por_producto4 == max_ventas4]\n",
        "print(f'Productos más vendidos ({max_ventas4} unidades):')\n",
        "print(productos_mas_vendidos4.to_string(index=True, header=False))\n",
        "\n",
        "# Filtrar todos los productos con el mínimo de ventas\n",
        "productos_menos_vendidos4 = ventas_por_producto4[ventas_por_producto4 == min_ventas4]\n",
        "print(f'\\nProductos menos vendidos ({min_ventas4} unidades):')\n",
        "print(productos_menos_vendidos4.to_string(index=True, header=False))"
      ],
      "metadata": {
        "id": "B4ePYMWP1WsC"
      },
      "execution_count": null,
      "outputs": []
    },
    {
      "cell_type": "markdown",
      "source": [
        "# 5. Envío promedio por tienda"
      ],
      "metadata": {
        "id": "Fl0cGi3bZKqU"
      }
    },
    {
      "cell_type": "code",
      "source": [
        "print(\"----Costo Promedio del Envío---------------\")"
      ],
      "metadata": {
        "id": "S2JeaCykZNy9"
      },
      "execution_count": null,
      "outputs": []
    },
    {
      "cell_type": "code",
      "source": [
        "Costo_Promedio_Envio = df_tienda_total['Costo de envío'].mean()\n",
        "print(Costo_Promedio_Envio)\n",
        "print(\"--------------Tienda 1 : Costo Promedio del Envío------------\")\n",
        "Costo_Promedio_Envio1 = tienda['Costo de envío'].mean()\n",
        "print(Costo_Promedio_Envio1)\n",
        "print(\"--------------Tienda 2 : Costo Promedio del Envío------------\")\n",
        "Costo_Promedio_Envio2 = tienda2['Costo de envío'].mean()\n",
        "print(Costo_Promedio_Envio2)\n",
        "print(\"--------------Tienda 3 : Costo Promedio del Envío------------\")\n",
        "Costo_Promedio_Envio3 = tienda3['Costo de envío'].mean()\n",
        "print(Costo_Promedio_Envio3)\n",
        "print(\"--------------Tienda 4 : Costo Promedio del Envío------------\")\n",
        "Costo_Promedio_Envio4 = tienda4['Costo de envío'].mean()\n",
        "print(Costo_Promedio_Envio4)\n"
      ],
      "metadata": {
        "id": "0tSdCie9ZQlt"
      },
      "execution_count": null,
      "outputs": []
    },
    {
      "cell_type": "code",
      "source": [],
      "metadata": {
        "id": "3K42bbBy-h2b"
      },
      "execution_count": null,
      "outputs": []
    },
    {
      "cell_type": "code",
      "source": [],
      "metadata": {
        "id": "aM_S4qYx-hc5"
      },
      "execution_count": null,
      "outputs": []
    },
    {
      "cell_type": "code",
      "metadata": {
        "id": "a1004a09"
      },
      "source": [],
      "execution_count": null,
      "outputs": []
    },
    {
      "cell_type": "code",
      "source": [],
      "metadata": {
        "id": "zFx9l35Nb6hr"
      },
      "execution_count": null,
      "outputs": []
    },
    {
      "cell_type": "code",
      "metadata": {
        "id": "08ba5126"
      },
      "source": [],
      "execution_count": null,
      "outputs": []
    }
  ]
}